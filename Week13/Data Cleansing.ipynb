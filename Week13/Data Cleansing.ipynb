{
  "nbformat": 4,
  "nbformat_minor": 0,
  "metadata": {
    "colab": {
      "provenance": [],
      "authorship_tag": "ABX9TyMAmEI1QpKf7V2xt8dG5sO/",
      "include_colab_link": true
    },
    "kernelspec": {
      "name": "python3",
      "display_name": "Python 3"
    },
    "language_info": {
      "name": "python"
    }
  },
  "cells": [
    {
      "cell_type": "markdown",
      "metadata": {
        "id": "view-in-github",
        "colab_type": "text"
      },
      "source": [
        "<a href=\"https://colab.research.google.com/github/MunirahHF/Deployment/blob/main/Data%20Cleansing.ipynb\" target=\"_parent\"><img src=\"https://colab.research.google.com/assets/colab-badge.svg\" alt=\"Open In Colab\"/></a>"
      ]
    },
    {
      "cell_type": "code",
      "execution_count": 2,
      "metadata": {
        "colab": {
          "base_uri": "https://localhost:8080/"
        },
        "id": "FZOYK0RgMEB9",
        "outputId": "0db1dfe9-d4cd-415b-d215-188acf959609"
      },
      "outputs": [
        {
          "output_type": "stream",
          "name": "stderr",
          "text": [
            "<ipython-input-2-bcc0d5908c60>:5: DtypeWarning: Columns (15) have mixed types. Specify dtype option on import or set low_memory=False.\n",
            "  data = pd.read_csv(file_path)\n"
          ]
        },
        {
          "output_type": "stream",
          "name": "stdout",
          "text": [
            "<class 'pandas.core.frame.DataFrame'>\n",
            "RangeIndex: 929615 entries, 0 to 929614\n",
            "Data columns (total 24 columns):\n",
            " #   Column                 Non-Null Count   Dtype  \n",
            "---  ------                 --------------   -----  \n",
            " 0   fecha_dato             929615 non-null  object \n",
            " 1   ncodpers               929615 non-null  int64  \n",
            " 2   ind_empleado           929615 non-null  object \n",
            " 3   pais_residencia        929615 non-null  object \n",
            " 4   sexo                   929610 non-null  object \n",
            " 5   age                    929615 non-null  int64  \n",
            " 6   fecha_alta             929615 non-null  object \n",
            " 7   ind_nuevo              929615 non-null  int64  \n",
            " 8   antiguedad             929615 non-null  int64  \n",
            " 9   indrel                 929615 non-null  int64  \n",
            " 10  ult_fec_cli_1t         1683 non-null    object \n",
            " 11  indrel_1mes            929592 non-null  float64\n",
            " 12  tiprel_1mes            929592 non-null  object \n",
            " 13  indresi                929615 non-null  object \n",
            " 14  indext                 929615 non-null  object \n",
            " 15  conyuemp               104 non-null     object \n",
            " 16  canal_entrada          927534 non-null  object \n",
            " 17  indfall                929615 non-null  object \n",
            " 18  tipodom                929615 non-null  int64  \n",
            " 19  cod_prov               925619 non-null  float64\n",
            " 20  nomprov                925619 non-null  object \n",
            " 21  ind_actividad_cliente  929615 non-null  int64  \n",
            " 22  renta                  929615 non-null  object \n",
            " 23  segmento               927367 non-null  object \n",
            "dtypes: float64(2), int64(7), object(15)\n",
            "memory usage: 170.2+ MB\n",
            "None\n"
          ]
        }
      ],
      "source": [
        "import pandas as pd\n",
        "\n",
        "# Load the dataset\n",
        "file_path = 'Cross Selling.csv'\n",
        "data = pd.read_csv(file_path)\n",
        "\n",
        "# Display basic information about the dataset\n",
        "print(data.info())\n",
        "\n"
      ]
    },
    {
      "cell_type": "code",
      "source": [
        "# Display the first few rows\n",
        "print(data.head())"
      ],
      "metadata": {
        "colab": {
          "base_uri": "https://localhost:8080/"
        },
        "id": "DQmBRxPpdkV1",
        "outputId": "8ce284f6-0e98-49df-f481-053631644b8e"
      },
      "execution_count": 3,
      "outputs": [
        {
          "output_type": "stream",
          "name": "stdout",
          "text": [
            "   fecha_dato  ncodpers ind_empleado pais_residencia sexo  age  fecha_alta  \\\n",
            "0  2016-06-28     15889            F              ES    V   56  1995-01-16   \n",
            "1  2016-06-28   1170544            N              ES    H   36  2013-08-28   \n",
            "2  2016-06-28   1170545            N              ES    V   22  2013-08-28   \n",
            "3  2016-06-28   1170547            N              ES    H   22  2013-08-28   \n",
            "4  2016-06-28   1170548            N              ES    H   22  2013-08-28   \n",
            "\n",
            "   ind_nuevo  antiguedad  indrel  ... indext  conyuemp canal_entrada indfall  \\\n",
            "0          0         256       1  ...      N         N           KAT       N   \n",
            "1          0          34       1  ...      N       NaN           KAT       N   \n",
            "2          0          34       1  ...      N       NaN           KHE       N   \n",
            "3          0          34       1  ...      N       NaN           KHE       N   \n",
            "4          0          34       1  ...      N       NaN           KHE       N   \n",
            "\n",
            "  tipodom cod_prov         nomprov ind_actividad_cliente        renta  \\\n",
            "0       1     28.0          MADRID                     1    326124.90   \n",
            "1       1      3.0        ALICANTE                     0           NA   \n",
            "2       1     15.0       CORUÑA, A                     1           NA   \n",
            "3       1      8.0       BARCELONA                     0    148402.98   \n",
            "4       1      7.0  BALEARS, ILLES                     0    106885.80   \n",
            "\n",
            "             segmento  \n",
            "0            01 - TOP  \n",
            "1   02 - PARTICULARES  \n",
            "2  03 - UNIVERSITARIO  \n",
            "3  03 - UNIVERSITARIO  \n",
            "4  03 - UNIVERSITARIO  \n",
            "\n",
            "[5 rows x 24 columns]\n"
          ]
        }
      ]
    },
    {
      "cell_type": "code",
      "source": [
        "# Check for missing values in each column\n",
        "missing_values = data.isnull().sum()\n",
        "\n",
        "# Display columns with missing values\n",
        "print(\"Missing values in each column:\")\n",
        "print(missing_values[missing_values > 0])\n"
      ],
      "metadata": {
        "id": "nwNgFOu7eFvu",
        "outputId": "83cfe1d8-aad7-4f70-98e4-a9287b064354",
        "colab": {
          "base_uri": "https://localhost:8080/"
        }
      },
      "execution_count": 4,
      "outputs": [
        {
          "output_type": "stream",
          "name": "stdout",
          "text": [
            "Missing values in each column:\n",
            "sexo                   5\n",
            "ult_fec_cli_1t    927932\n",
            "indrel_1mes           23\n",
            "tiprel_1mes           23\n",
            "conyuemp          929511\n",
            "canal_entrada       2081\n",
            "cod_prov            3996\n",
            "nomprov             3996\n",
            "segmento            2248\n",
            "dtype: int64\n"
          ]
        }
      ]
    },
    {
      "cell_type": "markdown",
      "source": [
        "### Handling Missing Values"
      ],
      "metadata": {
        "id": "bRpB71zJEmiq"
      }
    },
    {
      "cell_type": "code",
      "source": [
        "data['sexo'].fillna(data['sexo'].mode()[0], inplace=True)\n",
        "data['cod_prov'].fillna(data['cod_prov'].median(), inplace=True)\n"
      ],
      "metadata": {
        "id": "7iHPhAN8Eq2l"
      },
      "execution_count": 7,
      "outputs": []
    },
    {
      "cell_type": "code",
      "source": [
        "\n",
        "from sklearn.impute import KNNImputer\n",
        "\n",
        "# Separate the numeric and non numeric columns\n",
        "numeric_cols = data.select_dtypes(include=['number']).columns\n",
        "non_numeric_cols = data.select_dtypes(exclude=['number']).columns\n",
        "\n",
        "# Apply KNNImputer to numeric columns only\n",
        "imputer = KNNImputer(n_neighbors=5)\n",
        "data[numeric_cols] = imputer.fit_transform(data[numeric_cols])\n",
        "\n",
        "# Handle non numeric columns separately,filling with mode\n",
        "for col in non_numeric_cols:\n",
        "    data[col].fillna(data[col].mode()[0], inplace=True)\n"
      ],
      "metadata": {
        "id": "5y-aikqnEzz0"
      },
      "execution_count": 11,
      "outputs": []
    },
    {
      "cell_type": "code",
      "source": [],
      "metadata": {
        "id": "pQH5fhmkFT63"
      },
      "execution_count": null,
      "outputs": []
    }
  ]
}